{
 "cells": [
  {
   "attachments": {},
   "cell_type": "markdown",
   "metadata": {},
   "source": [
    "# LCK"
   ]
  },
  {
   "cell_type": "code",
   "execution_count": 56,
   "metadata": {},
   "outputs": [
    {
     "name": "stdout",
     "output_type": "stream",
     "text": [
      "     TEAM    W-L POINTS\n",
      "0  1   dk  0 - 0      0\n",
      "1  2  drx  0 - 0      0\n",
      "2  3  gen  0 - 0      0\n",
      "3  4  hle  0 - 0      0\n",
      "4  5   kt  0 - 0      0\n",
      "      TEAM    W-L POINTS\n",
      "5   6  kdf  0 - 0      0\n",
      "6   7  lsb  0 - 0      0\n",
      "7   8   ns  0 - 0      0\n",
      "8   9  bro  0 - 0      0\n",
      "9  10   T1  0 - 0      0\n"
     ]
    }
   ],
   "source": [
    "import requests\n",
    "import pandas as pd\n",
    "\n",
    "def table(league, url):\n",
    "    response = requests.get(url)\n",
    "    df = pd.read_html(response.text)\n",
    "\n",
    "    df = df[16]\n",
    "    df.columns = df.columns.droplevel(0)\n",
    "    df.drop(['Legend',\n",
    "             'Unnamed: 3_level_1',\n",
    "             'Unnamed: 4_level_1',\n",
    "             'Unnamed: 5_level_1',\n",
    "             'Unnamed: 7_level_1',],\n",
    "             axis=1, inplace=True)\n",
    "\n",
    "    # 순위 생성 및 인덱스 재설정\n",
    "    df.drop([0, 1, 2, 3], inplace=True)\n",
    "    df.index = range(1, len(df)+1)\n",
    "    df.index.name = ''\n",
    "    df.reset_index(inplace=True)\n",
    "\n",
    "    # 컬럼명 변경\n",
    "    df.rename(columns = {'Unnamed: 1_level_1': 'TEAM',\n",
    "                         'Unnamed: 2_level_1': 'W-L',\n",
    "                         'Unnamed: 6_level_1': 'POINTS',},\n",
    "                         inplace=True)\n",
    "\n",
    "    # 팀명 변경\n",
    "    df['TEAM'] = df['TEAM'].str.replace('⁠⁠Dplus KIA', 'dk')\n",
    "    df['TEAM'] = df['TEAM'].str.replace('⁠⁠Hanwha Life Esports', 'hle')\n",
    "    df['TEAM'] = df['TEAM'].str.replace('⁠⁠Liiv SANDBOX', 'lsb')\n",
    "    df['TEAM'] = df['TEAM'].str.replace('⁠⁠Nongshim RedForce', 'ns')\n",
    "    df['TEAM'] = df['TEAM'].str.replace('⁠⁠T1', 'T1')\n",
    "    df['TEAM'] = df['TEAM'].str.replace('⁠⁠OKSavingsBank BRION', 'bro')\n",
    "    df['TEAM'] = df['TEAM'].str.replace('⁠⁠Gen.G', 'gen')\n",
    "    df['TEAM'] = df['TEAM'].str.replace('⁠⁠DRX', 'drx')\n",
    "    df['TEAM'] = df['TEAM'].str.replace('⁠⁠KT Rolster', 'kt')\n",
    "    df['TEAM'] = df['TEAM'].str.replace('⁠⁠Kwangdong Freecs', 'kdf')\n",
    "\n",
    "    def path_to_image_html(path):\n",
    "        return '<img src=\"/images/esports/lol/lck/'+ path + '-logo.png\"/>'+ path\n",
    "\n",
    "    df_1 = df.iloc[:5]\n",
    "    df_2 = df.iloc[5:]\n",
    "    print(df_1)\n",
    "    print(df_2)\n",
    "\n",
    "    df_1.to_html(f'./{league}-standings1.html', index=False, classes=f'{league}-standings', border=0, justify='center', formatters=dict(TEAM=path_to_image_html), escape=False)\n",
    "    df_2.to_html(f'./{league}-standings2.html', index=False, classes=f'{league}-standings', border=0, justify='center', formatters=dict(TEAM=path_to_image_html), escape=False)\n",
    "\n",
    "\n",
    "table('lck', 'https://lol.fandom.com/wiki/LCK/2023_Season/Summer_Season')\n"
   ]
  }
 ],
 "metadata": {
  "kernelspec": {
   "display_name": "Python 3",
   "language": "python",
   "name": "python3"
  },
  "language_info": {
   "codemirror_mode": {
    "name": "ipython",
    "version": 3
   },
   "file_extension": ".py",
   "mimetype": "text/x-python",
   "name": "python",
   "nbconvert_exporter": "python",
   "pygments_lexer": "ipython3",
   "version": "3.10.11"
  },
  "orig_nbformat": 4
 },
 "nbformat": 4,
 "nbformat_minor": 2
}
