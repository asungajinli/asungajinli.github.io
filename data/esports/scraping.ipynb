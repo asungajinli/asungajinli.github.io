{
 "cells": [
  {
   "cell_type": "code",
   "execution_count": null,
   "metadata": {},
   "outputs": [],
   "source": [
    "print('Esports scraping ------------------')"
   ]
  },
  {
   "attachments": {},
   "cell_type": "markdown",
   "metadata": {},
   "source": [
    "# LCK"
   ]
  },
  {
   "cell_type": "code",
   "execution_count": 2,
   "metadata": {},
   "outputs": [
    {
     "name": "stdout",
     "output_type": "stream",
     "text": [
      "LCK standings done!\n"
     ]
    }
   ],
   "source": [
    "import requests\n",
    "import pandas as pd\n",
    "\n",
    "def table(league, url):\n",
    "    response = requests.get(url)\n",
    "    df = pd.read_html(response.text)\n",
    "\n",
    "    df = df[16]\n",
    "    df.columns = df.columns.droplevel(0)\n",
    "    df.drop(['Legend',\n",
    "             'Unnamed: 3_level_1',\n",
    "             'Unnamed: 4_level_1',\n",
    "             'Unnamed: 5_level_1',\n",
    "             'Unnamed: 7_level_1',],\n",
    "             axis=1, inplace=True)\n",
    "\n",
    "    # 순위 생성 및 인덱스 재설정\n",
    "    df.drop([0, 1, 2, 3], inplace=True)\n",
    "    df.index = range(1, len(df)+1)\n",
    "    df.index.name = ''\n",
    "    df.reset_index(inplace=True)\n",
    "\n",
    "    # 컬럼명 변경\n",
    "    df.rename(columns = {'Unnamed: 1_level_1': 'TEAM',\n",
    "                         'Unnamed: 2_level_1': 'W-L',\n",
    "                         'Unnamed: 6_level_1': 'POINTS',},\n",
    "                         inplace=True)\n",
    "\n",
    "    # 팀명 변경\n",
    "    df['TEAM'] = df['TEAM'].str.replace('⁠⁠Dplus KIA', 'dk')\n",
    "    df['TEAM'] = df['TEAM'].str.replace('⁠⁠Hanwha Life Esports', 'hle')\n",
    "    df['TEAM'] = df['TEAM'].str.replace('⁠⁠Liiv SANDBOX', 'lsb')\n",
    "    df['TEAM'] = df['TEAM'].str.replace('⁠⁠Nongshim RedForce', 'ns')\n",
    "    df['TEAM'] = df['TEAM'].str.replace('⁠⁠T1', 't1')\n",
    "    df['TEAM'] = df['TEAM'].str.replace('⁠⁠OKSavingsBank BRION', 'bro')\n",
    "    df['TEAM'] = df['TEAM'].str.replace('⁠⁠Gen.G', 'gen')\n",
    "    df['TEAM'] = df['TEAM'].str.replace('⁠⁠DRX', 'drx')\n",
    "    df['TEAM'] = df['TEAM'].str.replace('⁠⁠KT Rolster', 'kt')\n",
    "    df['TEAM'] = df['TEAM'].str.replace('⁠⁠Kwangdong Freecs', 'kdf')\n",
    "\n",
    "    def path_to_image_html(path):\n",
    "        return '<img src=\"/images/esports/lol/lck/'+ path + '-logo.png\"/>'+ path\n",
    "\n",
    "    df_1 = df.iloc[:5]\n",
    "    df_2 = df.iloc[5:]\n",
    "\n",
    "    df_1.to_html(f'./{league}-standings1.html', index=False, classes=f'{league}-standings', border=0, justify='center', formatters=dict(TEAM=path_to_image_html), escape=False)\n",
    "    df_2.to_html(f'./{league}-standings2.html', index=False, classes=f'{league}-standings', border=0, justify='center', formatters=dict(TEAM=path_to_image_html), escape=False)\n",
    "\n",
    "\n",
    "table('lck', 'https://lol.fandom.com/wiki/LCK/2023_Season/Summer_Season')\n",
    "\n",
    "print('LCK standings done!')\n"
   ]
  },
  {
   "cell_type": "code",
   "execution_count": 1,
   "metadata": {},
   "outputs": [
    {
     "name": "stdout",
     "output_type": "stream",
     "text": [
      "LCK matches done!\n"
     ]
    }
   ],
   "source": [
    "import requests\n",
    "import pandas as pd\n",
    "\n",
    "def table(league, url):\n",
    "    response = requests.get(url)\n",
    "    df = pd.read_html(response.text)\n",
    "\n",
    "    df = df[4]\n",
    "    df.columns = df.columns.droplevel(0)\n",
    "    df.drop(['SB',\n",
    "             'VOD',],\n",
    "             axis=1, inplace=True)\n",
    "    \n",
    "    df.drop([0], inplace=True)\n",
    "\n",
    "table('lck', 'https://lol.fandom.com/wiki/LCK/2023_Season/Summer_Season/Match_History')\n",
    "\n",
    "print('LCK matches done!')"
   ]
  }
 ],
 "metadata": {
  "kernelspec": {
   "display_name": "Python 3",
   "language": "python",
   "name": "python3"
  },
  "language_info": {
   "codemirror_mode": {
    "name": "ipython",
    "version": 3
   },
   "file_extension": ".py",
   "mimetype": "text/x-python",
   "name": "python",
   "nbconvert_exporter": "python",
   "pygments_lexer": "ipython3",
   "version": "3.10.11"
  },
  "orig_nbformat": 4
 },
 "nbformat": 4,
 "nbformat_minor": 2
}
