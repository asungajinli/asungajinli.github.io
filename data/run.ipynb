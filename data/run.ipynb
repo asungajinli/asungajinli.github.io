{
 "cells": [
  {
   "cell_type": "code",
   "execution_count": 1,
   "metadata": {},
   "outputs": [
    {
     "data": {
      "text/plain": [
       "'c:\\\\Users\\\\ssjj3\\\\Documents\\\\GitHub\\\\asungajinli.github.io\\\\data'"
      ]
     },
     "execution_count": 1,
     "metadata": {},
     "output_type": "execute_result"
    }
   ],
   "source": [
    "%pwd"
   ]
  },
  {
   "cell_type": "code",
   "execution_count": 4,
   "metadata": {},
   "outputs": [
    {
     "name": "stdout",
     "output_type": "stream",
     "text": [
      "c:\\Users\\ssjj3\\Documents\\GitHub\\asungajinli.github.io\\data\\esports\n"
     ]
    }
   ],
   "source": [
    "%cd esports"
   ]
  },
  {
   "cell_type": "code",
   "execution_count": 6,
   "metadata": {},
   "outputs": [
    {
     "name": "stdout",
     "output_type": "stream",
     "text": [
      "c:\\Users\\ssjj3\\Documents\\GitHub\\asungajinli.github.io\\data\n"
     ]
    },
    {
     "name": "stderr",
     "output_type": "stream",
     "text": [
      "[NbConvertApp] Converting notebook ./football/scraping.ipynb to script\n",
      "[NbConvertApp] Writing 13136 bytes to football\\scraping.py\n"
     ]
    },
    {
     "name": "stdout",
     "output_type": "stream",
     "text": [
      "c:\\Users\\ssjj3\\Documents\\GitHub\\asungajinli.github.io\\data\\football\n"
     ]
    },
    {
     "name": "stderr",
     "output_type": "stream",
     "text": [
      "[NbConvertApp] Converting notebook ./esports/scraping.ipynb to script\n",
      "[NbConvertApp] Writing 6744 bytes to esports\\scraping.py\n"
     ]
    },
    {
     "name": "stdout",
     "output_type": "stream",
     "text": [
      "Football scraping ------------------\n",
      "Europe standings done!\n",
      "Europe matches done!\n",
      "Asia standings done!\n",
      "Asia matches done!\n",
      "c:\\Users\\ssjj3\\Documents\\GitHub\\asungajinli.github.io\\data\\esports\n",
      "Esports scraping ------------------\n",
      "LCK standings done!\n"
     ]
    }
   ],
   "source": [
    "%cd ..\n",
    "!jupyter nbconvert --to script ./football/scraping.ipynb\n",
    "!jupyter nbconvert --to script ./esports/scraping.ipynb\n",
    "%cd football\n",
    "!python ./scraping.py\n",
    "%cd ../esports\n",
    "!python ./scraping.py"
   ]
  }
 ],
 "metadata": {
  "kernelspec": {
   "display_name": "Python 3",
   "language": "python",
   "name": "python3"
  },
  "language_info": {
   "codemirror_mode": {
    "name": "ipython",
    "version": 3
   },
   "file_extension": ".py",
   "mimetype": "text/x-python",
   "name": "python",
   "nbconvert_exporter": "python",
   "pygments_lexer": "ipython3",
   "version": "3.10.11"
  },
  "orig_nbformat": 4
 },
 "nbformat": 4,
 "nbformat_minor": 2
}
