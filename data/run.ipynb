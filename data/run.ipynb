{
 "cells": [
  {
   "cell_type": "code",
   "execution_count": 3,
   "metadata": {},
   "outputs": [
    {
     "data": {
      "text/plain": [
       "'c:\\\\Users\\\\ssjj3\\\\Documents\\\\GitHub\\\\asungajinli.github.io\\\\data\\\\esports'"
      ]
     },
     "execution_count": 3,
     "metadata": {},
     "output_type": "execute_result"
    }
   ],
   "source": [
    "%pwd"
   ]
  },
  {
   "cell_type": "code",
   "execution_count": 4,
   "metadata": {},
   "outputs": [
    {
     "name": "stdout",
     "output_type": "stream",
     "text": [
      "c:\\Users\\ssjj3\\Documents\\GitHub\\asungajinli.github.io\\data\n"
     ]
    }
   ],
   "source": [
    "%cd .."
   ]
  },
  {
   "cell_type": "code",
   "execution_count": 2,
   "metadata": {},
   "outputs": [
    {
     "name": "stdout",
     "output_type": "stream",
     "text": [
      "c:\\Users\\ssjj3\\Documents\\GitHub\\asungajinli.github.io\\data\\esports\n"
     ]
    }
   ],
   "source": [
    "%cd esports"
   ]
  },
  {
   "cell_type": "code",
   "execution_count": 5,
   "metadata": {},
   "outputs": [
    {
     "name": "stderr",
     "output_type": "stream",
     "text": [
      "[NbConvertApp] Converting notebook ./football/scraping.ipynb to script\n",
      "[NbConvertApp] Writing 14314 bytes to football\\scraping.py\n"
     ]
    },
    {
     "name": "stdout",
     "output_type": "stream",
     "text": [
      "c:\\Users\\ssjj3\\Documents\\GitHub\\asungajinli.github.io\\data\\football\n"
     ]
    },
    {
     "name": "stderr",
     "output_type": "stream",
     "text": [
      "[NbConvertApp] Converting notebook ./esports/scraping.ipynb to script\n",
      "[NbConvertApp] Writing 7478 bytes to esports\\scraping.py\n"
     ]
    },
    {
     "name": "stdout",
     "output_type": "stream",
     "text": [
      "Football scraping ------------------\n",
      "c:\\Users\\ssjj3\\Documents\\GitHub\\asungajinli.github.io\\data\\esports\n"
     ]
    },
    {
     "name": "stderr",
     "output_type": "stream",
     "text": [
      "Traceback (most recent call last):\n",
      "  File \"c:\\Users\\ssjj3\\Documents\\GitHub\\asungajinli.github.io\\data\\football\\scraping.py\", line 117, in <module>\n",
      "    table('championsleague', 'https://fbref.com/en/comps/8/Champions-League-Stats')\n",
      "  File \"c:\\Users\\ssjj3\\Documents\\GitHub\\asungajinli.github.io\\data\\football\\scraping.py\", line 70, in table\n",
      "    dfs = pd.read_html(response.text)\n",
      "  File \"C:\\Users\\ssjj3\\AppData\\Local\\Packages\\PythonSoftwareFoundation.Python.3.10_qbz5n2kfra8p0\\LocalCache\\local-packages\\Python310\\site-packages\\pandas\\io\\html.py\", line 1212, in read_html\n",
      "    return _parse(\n",
      "  File \"C:\\Users\\ssjj3\\AppData\\Local\\Packages\\PythonSoftwareFoundation.Python.3.10_qbz5n2kfra8p0\\LocalCache\\local-packages\\Python310\\site-packages\\pandas\\io\\html.py\", line 1001, in _parse\n",
      "    raise retained\n",
      "  File \"C:\\Users\\ssjj3\\AppData\\Local\\Packages\\PythonSoftwareFoundation.Python.3.10_qbz5n2kfra8p0\\LocalCache\\local-packages\\Python310\\site-packages\\pandas\\io\\html.py\", line 981, in _parse\n",
      "    tables = p.parse_tables()\n",
      "  File \"C:\\Users\\ssjj3\\AppData\\Local\\Packages\\PythonSoftwareFoundation.Python.3.10_qbz5n2kfra8p0\\LocalCache\\local-packages\\Python310\\site-packages\\pandas\\io\\html.py\", line 257, in parse_tables\n",
      "    tables = self._parse_tables(self._build_doc(), self.match, self.attrs)\n",
      "  File \"C:\\Users\\ssjj3\\AppData\\Local\\Packages\\PythonSoftwareFoundation.Python.3.10_qbz5n2kfra8p0\\LocalCache\\local-packages\\Python310\\site-packages\\pandas\\io\\html.py\", line 613, in _parse_tables\n",
      "    raise ValueError(\"No tables found\")\n",
      "ValueError: No tables found\n"
     ]
    },
    {
     "name": "stdout",
     "output_type": "stream",
     "text": [
      "Esports scraping ------------------\n",
      "LCK standings done!\n",
      "LCK matches done!\n"
     ]
    }
   ],
   "source": [
    "!jupyter nbconvert --to script ./football/scraping.ipynb\n",
    "!jupyter nbconvert --to script ./esports/scraping.ipynb\n",
    "%cd football\n",
    "!python ./scraping.py\n",
    "%cd ../esports\n",
    "!python ./scraping.py"
   ]
  }
 ],
 "metadata": {
  "kernelspec": {
   "display_name": "Python 3",
   "language": "python",
   "name": "python3"
  },
  "language_info": {
   "codemirror_mode": {
    "name": "ipython",
    "version": 3
   },
   "file_extension": ".py",
   "mimetype": "text/x-python",
   "name": "python",
   "nbconvert_exporter": "python",
   "pygments_lexer": "ipython3",
   "version": "3.10.11"
  },
  "orig_nbformat": 4
 },
 "nbformat": 4,
 "nbformat_minor": 2
}
