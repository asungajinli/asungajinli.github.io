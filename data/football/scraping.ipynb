{
 "cells": [
  {
   "attachments": {},
   "cell_type": "markdown",
   "metadata": {},
   "source": [
    "https://deepnote.com/workspace/danielstpaul-8373ec8d-16a5-47d1-9624-c15bad391755/project/EPL-Web-Scraper-19f51d7b-ae79-4c51-906c-dee0138da144/notebook/epl_web_scraper-106afad12e774bf4a19d2faa3c39f0cd"
   ]
  },
  {
   "attachments": {},
   "cell_type": "markdown",
   "metadata": {},
   "source": [
    "# Europe"
   ]
  },
  {
   "cell_type": "code",
   "execution_count": 2,
   "metadata": {},
   "outputs": [],
   "source": [
    "import requests\n",
    "import pandas as pd\n",
    "\n",
    "def table(league, url):\n",
    "    response = requests.get(url)\n",
    "    df = pd.read_html(response.text)\n",
    "\n",
    "    df[0].drop(['Pts/MP',\n",
    "                'xG',\n",
    "                'xGA',\n",
    "                'xGD',\n",
    "                'xGD/90',\n",
    "                # 'Last 5',\n",
    "                'Attendance',\n",
    "                'Top Team Scorer',\n",
    "                'Goalkeeper',\n",
    "                'Notes',],\n",
    "                axis=1, inplace=True)\n",
    "\n",
    "    df[0].rename(columns = {'Rk':'순위',\n",
    "                            'Squad':'팀',\n",
    "                            'MP':'경기',\n",
    "                            'W':'승',\n",
    "                            'D':'무',\n",
    "                            'L':'패',\n",
    "                            'GF':'득점',\n",
    "                            'GA':'실점',\n",
    "                            'GD':'득실차',\n",
    "                            'Pts':'승점'},\n",
    "                            inplace=True)\n",
    "    \n",
    "    df[0].to_html(f'europe/{league}-standings.html', index=False, classes=f'{league}-standings', border=0, justify='center')\n",
    "\n",
    "table('premierleague', 'https://fbref.com/en/comps/9/Premier-League-Stats')\n",
    "table('laliga', 'https://fbref.com/en/comps/12/La-Liga-Stats')\n",
    "table('bundesliga', 'https://fbref.com/en/comps/20/Bundesliga-Stats')\n",
    "table('seriea', 'https://fbref.com/en/comps/11/Serie-A-Stats')\n",
    "table('ligue1', 'https://fbref.com/en/comps/13/Ligue-1-Stats')\n"
   ]
  },
  {
   "attachments": {},
   "cell_type": "markdown",
   "metadata": {},
   "source": [
    "# Asia"
   ]
  },
  {
   "cell_type": "code",
   "execution_count": 1,
   "metadata": {},
   "outputs": [
    {
     "name": "stdout",
     "output_type": "stream",
     "text": [
      "    순위         팀  경기   승  무   패  득점  실점  득실차  승점\n",
      "0    1     울산 현대  16  12  2   2  32  18   14  38\n",
      "1    2  제주 유나이티드  16   8  4   4  25  16    9  28\n",
      "2    3     FC 서울  16   8  3   5  29  19   10  27\n",
      "3    4   포항 스틸러스  16   7  6   3  22  19    3  27\n",
      "4    5     대구 FC  16   6  6   4  19  19    0  24\n",
      "5    6    대전 시티즌  16   6  4   6  26  28   -2  22\n",
      "7    7     광주 FC  16   6  3   7  21  20    1  21\n",
      "8    8     전북 현대  16   6  3   7  19  14    5  21\n",
      "9    9     수원 FC  16   5  3   8  18  30  -12  18\n",
      "10  10  인천 유나이티드  16   4  6   6  17  22   -5  18\n",
      "11  11     강원 FC  16   2  6   8   9  19  -10  12\n",
      "12  12     수원 삼성  16   2  2  12  15  28  -13   8\n"
     ]
    }
   ],
   "source": [
    "import requests\n",
    "import pandas as pd\n",
    "\n",
    "def table(league, url):\n",
    "    response = requests.get(url)\n",
    "    df = pd.read_html(response.text)\n",
    "\n",
    "    df[0].drop(['Pts/MP',\n",
    "                'Last 5',\n",
    "                'Attendance',\n",
    "                'Top Team Scorer',\n",
    "                'Goalkeeper',\n",
    "                'Notes',],\n",
    "                axis=1, inplace=True)\n",
    "    \n",
    "    df[0].dropna(axis=0, inplace=True)\n",
    "\n",
    "    df[0]=df[0].astype({'Rk':'int64',\n",
    "                        'MP':'int64',\n",
    "                        'W':'int64',\n",
    "                        'D':'int64',\n",
    "                        'L':'int64',\n",
    "                        'GF':'int64',\n",
    "                        'GA':'int64',\n",
    "                        'GD':'int64',\n",
    "                        'Pts':'int64'})\n",
    "    \n",
    "    df[0].rename(columns = {'Rk':'순위',\n",
    "                            'Squad':'팀',\n",
    "                            'MP':'경기',\n",
    "                            'W':'승',\n",
    "                            'D':'무',\n",
    "                            'L':'패',\n",
    "                            'GF':'득점',\n",
    "                            'GA':'실점',\n",
    "                            'GD':'득실차',\n",
    "                            'Pts':'승점'},\n",
    "                            inplace=True)\n",
    "    \n",
    "    df[0].loc[df[0]['팀']=='Ulsan Hyundai', '팀'] = '울산 현대'\n",
    "    df[0].loc[df[0]['팀']=='Jeonbuk', '팀'] = '전북 현대'\n",
    "    df[0].loc[df[0]['팀']=='Suw Bluewings', '팀'] = '수원 삼성'\n",
    "    df[0].loc[df[0]['팀']=='Daegu', '팀'] = '대구 FC'\n",
    "    df[0].loc[df[0]['팀']=='Pohang', '팀'] = '포항 스틸러스'\n",
    "    df[0].loc[df[0]['팀']=='Gangwon', '팀'] = '강원 FC'\n",
    "    df[0].loc[df[0]['팀']=='FC Seoul', '팀'] = 'FC 서울'\n",
    "    df[0].loc[df[0]['팀']=='Jeju United FC', '팀'] = '제주 유나이티드'\n",
    "    df[0].loc[df[0]['팀']=='Incheon United', '팀'] = '인천 유나이티드'\n",
    "    df[0].loc[df[0]['팀']=='Gwangju FC', '팀'] = '광주 FC'\n",
    "    df[0].loc[df[0]['팀']=='Seongnam FC', '팀'] = '성남 FC'\n",
    "    df[0].loc[df[0]['팀']=='Sangju Sangmu', '팀'] = '상주 상무'\n",
    "    df[0].loc[df[0]['팀']=='Busan IPark', '팀'] = '부산 아이파크'\n",
    "    df[0].loc[df[0]['팀']=='Suwon FC', '팀'] = '수원 FC'\n",
    "    df[0].loc[df[0]['팀']=='Daejeon Citizen FC', '팀'] = '대전 시티즌'\n",
    "    df[0].loc[df[0]['팀']=='Ansan Greeners', '팀'] = '안산 그리너스'\n",
    "    df[0].loc[df[0]['팀']=='Chungnam Asan FC', '팀'] = '충남 아산 FC'\n",
    "    df[0].loc[df[0]['팀']=='Jeonnam Dragons', '팀'] = '전남 드래곤즈'\n",
    "    df[0].loc[df[0]['팀']=='Bucheon 1995', '팀'] = '부천 FC 1995'\n",
    "    df[0].loc[df[0]['팀']=='Gyeongnam FC', '팀'] = '경남 FC'\n",
    "    df[0].loc[df[0]['팀']=='Seoul E-Land FC', '팀'] = '서울 이랜드'\n",
    "    df[0].loc[df[0]['팀']=='Anyang', '팀'] = '안양 FC'\n",
    "    df[0].loc[df[0]['팀']=='Gyeongnam', '팀'] = '경남 FC'\n",
    "    df[0].loc[df[0]['팀']=='Gyeongju HNP', '팀'] = '경주 한국프로축구단'\n",
    "    df[0].loc[df[0]['팀']=='Gimcheon Sangmu', '팀'] = '김천 상무'\n",
    "\n",
    "    print(df[0])\n",
    "    df[0].to_html(f'./{league}-standings.html', index=False, classes=f'{league}-standings', border=0, justify='center')\n",
    "\n",
    "table('kleague1', 'https://fbref.com/en/comps/55/K-League-1-Stats')"
   ]
  }
 ],
 "metadata": {
  "kernelspec": {
   "display_name": "Python 3",
   "language": "python",
   "name": "python3"
  },
  "language_info": {
   "codemirror_mode": {
    "name": "ipython",
    "version": 3
   },
   "file_extension": ".py",
   "mimetype": "text/x-python",
   "name": "python",
   "nbconvert_exporter": "python",
   "pygments_lexer": "ipython3",
   "version": "3.10.11"
  },
  "orig_nbformat": 4
 },
 "nbformat": 4,
 "nbformat_minor": 2
}
