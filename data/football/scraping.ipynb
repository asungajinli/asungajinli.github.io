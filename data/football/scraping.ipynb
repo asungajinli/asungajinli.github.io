{
 "cells": [
  {
   "attachments": {},
   "cell_type": "markdown",
   "metadata": {},
   "source": [
    "https://deepnote.com/workspace/danielstpaul-8373ec8d-16a5-47d1-9624-c15bad391755/project/EPL-Web-Scraper-19f51d7b-ae79-4c51-906c-dee0138da144/notebook/epl_web_scraper-106afad12e774bf4a19d2faa3c39f0cd"
   ]
  },
  {
   "attachments": {},
   "cell_type": "markdown",
   "metadata": {},
   "source": [
    "# Europe"
   ]
  },
  {
   "cell_type": "code",
   "execution_count": 36,
   "metadata": {},
   "outputs": [],
   "source": [
    "import requests\n",
    "import pandas as pd\n",
    "\n",
    "def table(league, url):\n",
    "    response = requests.get(url)\n",
    "    df = pd.read_html(response.text)\n",
    "\n",
    "    df[0].drop(['Pts/MP',\n",
    "                'xG',\n",
    "                'xGA',\n",
    "                'xGD',\n",
    "                'xGD/90',\n",
    "                'Last 5',\n",
    "                'Attendance',\n",
    "                'Top Team Scorer',\n",
    "                'Goalkeeper',\n",
    "                'Notes',],\n",
    "                axis=1, inplace=True)\n",
    "\n",
    "    df[0].rename(columns = {'Rk':'순위',\n",
    "                            'Squad':'팀',\n",
    "                            'MP':'경기',\n",
    "                            'W':'승',\n",
    "                            'D':'무',\n",
    "                            'L':'패',\n",
    "                            'GF':'득점',\n",
    "                            'GA':'실점',\n",
    "                            'GD':'득실차',\n",
    "                            'Pts':'승점'},\n",
    "                            inplace=True)\n",
    "    \n",
    "    df[0].to_html(f'europe/{league}_standings.html', index=False, classes='football_standings', border=0, justify='center')\n",
    "\n",
    "table('premierleague', 'https://fbref.com/en/comps/9/Premier-League-Stats')\n",
    "table('laliga', 'https://fbref.com/en/comps/12/La-Liga-Stats')\n",
    "table('bundesliga', 'https://fbref.com/en/comps/20/Bundesliga-Stats')\n",
    "table('seriea', 'https://fbref.com/en/comps/11/Serie-A-Stats')\n",
    "table('ligue1', 'https://fbref.com/en/comps/13/Ligue-1-Stats')\n"
   ]
  },
  {
   "attachments": {},
   "cell_type": "markdown",
   "metadata": {},
   "source": [
    "# Asia"
   ]
  },
  {
   "cell_type": "code",
   "execution_count": 28,
   "metadata": {},
   "outputs": [
    {
     "name": "stdout",
     "output_type": "stream",
     "text": [
      "    순위         팀  경기   승  무   패  득점  실점  득실차  승점\n",
      "0    1     울산 현대  14  12  1   1  29  13   16  37\n",
      "1    2     FC 서울  14   7  3   4  28  18   10  24\n",
      "2    3  제주 유나이티드  14   7  3   4  21  13    8  24\n",
      "3    4   포항 스틸러스  14   6  6   2  19  15    4  24\n",
      "4    5    대전 시티즌  14   6  3   5  22  22    0  21\n",
      "5    6     대구 FC  14   5  5   4  16  17   -1  20\n",
      "7    7     전북 현대  14   5  3   6  17  13    4  18\n",
      "8    8     수원 FC  14   4  3   7  16  27  -11  15\n",
      "9    9     광주 FC  14   4  3   7  15  18   -3  15\n",
      "10  10  인천 유나이티드  14   3  5   6  12  19   -7  14\n",
      "11  11     강원 FC  14   2  5   7   7  16   -9  11\n",
      "12  12     수원 삼성  14   2  2  10  13  24  -11   8\n"
     ]
    }
   ],
   "source": [
    "import requests\n",
    "import pandas as pd\n",
    "\n",
    "def table(league, url):\n",
    "    response = requests.get(url)\n",
    "    df = pd.read_html(response.text)\n",
    "\n",
    "    df[0].drop(['Pts/MP',\n",
    "                'Last 5',\n",
    "                'Attendance',\n",
    "                'Top Team Scorer',\n",
    "                'Goalkeeper',\n",
    "                'Notes',],\n",
    "                axis=1, inplace=True)\n",
    "    \n",
    "    df[0].dropna(axis=0, inplace=True)\n",
    "\n",
    "    df[0]=df[0].astype({'Rk':'int64',\n",
    "                        'MP':'int64',\n",
    "                        'W':'int64',\n",
    "                        'D':'int64',\n",
    "                        'L':'int64',\n",
    "                        'GF':'int64',\n",
    "                        'GA':'int64',\n",
    "                        'GD':'int64',\n",
    "                        'Pts':'int64'})\n",
    "    \n",
    "    df[0].rename(columns = {'Rk':'순위',\n",
    "                            'Squad':'팀',\n",
    "                            'MP':'경기',\n",
    "                            'W':'승',\n",
    "                            'D':'무',\n",
    "                            'L':'패',\n",
    "                            'GF':'득점',\n",
    "                            'GA':'실점',\n",
    "                            'GD':'득실차',\n",
    "                            'Pts':'승점'},\n",
    "                            inplace=True)\n",
    "    \n",
    "    df[0].loc[df[0]['팀']=='Ulsan Hyundai', '팀'] = '울산 현대'\n",
    "    df[0].loc[df[0]['팀']=='Jeonbuk', '팀'] = '전북 현대'\n",
    "    df[0].loc[df[0]['팀']=='Suw Bluewings', '팀'] = '수원 삼성'\n",
    "    df[0].loc[df[0]['팀']=='Daegu', '팀'] = '대구 FC'\n",
    "    df[0].loc[df[0]['팀']=='Pohang', '팀'] = '포항 스틸러스'\n",
    "    df[0].loc[df[0]['팀']=='Gangwon', '팀'] = '강원 FC'\n",
    "    df[0].loc[df[0]['팀']=='FC Seoul', '팀'] = 'FC 서울'\n",
    "    df[0].loc[df[0]['팀']=='Jeju United FC', '팀'] = '제주 유나이티드'\n",
    "    df[0].loc[df[0]['팀']=='Incheon United', '팀'] = '인천 유나이티드'\n",
    "    df[0].loc[df[0]['팀']=='Gwangju FC', '팀'] = '광주 FC'\n",
    "    df[0].loc[df[0]['팀']=='Seongnam FC', '팀'] = '성남 FC'\n",
    "    df[0].loc[df[0]['팀']=='Sangju Sangmu', '팀'] = '상주 상무'\n",
    "    df[0].loc[df[0]['팀']=='Busan IPark', '팀'] = '부산 아이파크'\n",
    "    df[0].loc[df[0]['팀']=='Suwon FC', '팀'] = '수원 FC'\n",
    "    df[0].loc[df[0]['팀']=='Daejeon Citizen FC', '팀'] = '대전 시티즌'\n",
    "    df[0].loc[df[0]['팀']=='Ansan Greeners', '팀'] = '안산 그리너스'\n",
    "    df[0].loc[df[0]['팀']=='Chungnam Asan FC', '팀'] = '충남 아산 FC'\n",
    "    df[0].loc[df[0]['팀']=='Jeonnam Dragons', '팀'] = '전남 드래곤즈'\n",
    "    df[0].loc[df[0]['팀']=='Bucheon 1995', '팀'] = '부천 FC 1995'\n",
    "    df[0].loc[df[0]['팀']=='Gyeongnam FC', '팀'] = '경남 FC'\n",
    "    df[0].loc[df[0]['팀']=='Seoul E-Land FC', '팀'] = '서울 이랜드'\n",
    "    df[0].loc[df[0]['팀']=='Anyang', '팀'] = '안양 FC'\n",
    "    df[0].loc[df[0]['팀']=='Gyeongnam', '팀'] = '경남 FC'\n",
    "    df[0].loc[df[0]['팀']=='Gyeongju HNP', '팀'] = '경주 한국프로축구단'\n",
    "    df[0].loc[df[0]['팀']=='Gimcheon Sangmu', '팀'] = '김천 상무'\n",
    "\n",
    "    print(df[0])\n",
    "    df[0].to_html(f'./{league}_standings.html', index=False, classes='football_standings', border=0, justify='center')\n",
    "\n",
    "table('kleague1', 'https://fbref.com/en/comps/55/K-League-1-Stats')"
   ]
  }
 ],
 "metadata": {
  "kernelspec": {
   "display_name": "Python 3",
   "language": "python",
   "name": "python3"
  },
  "language_info": {
   "codemirror_mode": {
    "name": "ipython",
    "version": 3
   },
   "file_extension": ".py",
   "mimetype": "text/x-python",
   "name": "python",
   "nbconvert_exporter": "python",
   "pygments_lexer": "ipython3",
   "version": "3.10.11"
  },
  "orig_nbformat": 4
 },
 "nbformat": 4,
 "nbformat_minor": 2
}
