{
 "cells": [
  {
   "attachments": {},
   "cell_type": "markdown",
   "metadata": {},
   "source": [
    "https://deepnote.com/workspace/danielstpaul-8373ec8d-16a5-47d1-9624-c15bad391755/project/EPL-Web-Scraper-19f51d7b-ae79-4c51-906c-dee0138da144/notebook/epl_web_scraper-106afad12e774bf4a19d2faa3c39f0cd"
   ]
  },
  {
   "attachments": {},
   "cell_type": "markdown",
   "metadata": {},
   "source": [
    "# Europe"
   ]
  },
  {
   "cell_type": "code",
   "execution_count": 6,
   "metadata": {},
   "outputs": [],
   "source": [
    "import requests\n",
    "import pandas as pd\n",
    "\n",
    "def table(league, url):\n",
    "    response = requests.get(url)\n",
    "    df = pd.read_html(response.text)\n",
    "\n",
    "    df[0].drop(['Pts/MP',\n",
    "            'xG',\n",
    "            'xGA',\n",
    "            'xGD',\n",
    "            'xGD/90',\n",
    "            'Last 5',\n",
    "            'Attendance',\n",
    "            'Top Team Scorer',\n",
    "            'Goalkeeper',\n",
    "            'Notes',],\n",
    "            axis=1, inplace=True)\n",
    "\n",
    "    df[0].rename(columns = {'Rk':'순위',\n",
    "                        'Squad':'팀',\n",
    "                        'MP':'경기',\n",
    "                        'W':'승',\n",
    "                        'D':'무',\n",
    "                        'L':'패',\n",
    "                        'GF':'득점',\n",
    "                        'GA':'실점',\n",
    "                        'GD':'득실차',\n",
    "                        'Pts':'승점'},\n",
    "                        inplace=True)\n",
    "    \n",
    "    df[0].to_html(f'europe/{league}_standings.html', index=False, classes='football_standings')\n",
    "\n",
    "table('premierleague', 'https://fbref.com/en/comps/9/Premier-League-Stats')\n",
    "table('laliga', 'https://fbref.com/en/comps/12/La-Liga-Stats')\n",
    "table('bundesliga', 'https://fbref.com/en/comps/20/Bundesliga-Stats')\n",
    "table('seriea', 'https://fbref.com/en/comps/11/Serie-A-Stats')\n",
    "table('ligue1', 'https://fbref.com/en/comps/13/Ligue-1-Stats')\n"
   ]
  }
 ],
 "metadata": {
  "kernelspec": {
   "display_name": "Python 3",
   "language": "python",
   "name": "python3"
  },
  "language_info": {
   "codemirror_mode": {
    "name": "ipython",
    "version": 3
   },
   "file_extension": ".py",
   "mimetype": "text/x-python",
   "name": "python",
   "nbconvert_exporter": "python",
   "pygments_lexer": "ipython3",
   "version": "3.10.11"
  },
  "orig_nbformat": 4
 },
 "nbformat": 4,
 "nbformat_minor": 2
}
