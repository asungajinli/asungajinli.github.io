{
 "cells": [
  {
   "attachments": {},
   "cell_type": "markdown",
   "metadata": {},
   "source": [
    "https://deepnote.com/workspace/danielstpaul-8373ec8d-16a5-47d1-9624-c15bad391755/project/EPL-Web-Scraper-19f51d7b-ae79-4c51-906c-dee0138da144/notebook/epl_web_scraper-106afad12e774bf4a19d2faa3c39f0cd"
   ]
  },
  {
   "attachments": {},
   "cell_type": "markdown",
   "metadata": {},
   "source": [
    "# Europe"
   ]
  },
  {
   "cell_type": "code",
   "execution_count": 9,
   "metadata": {},
   "outputs": [],
   "source": [
    "import requests\n",
    "import pandas as pd\n",
    "\n",
    "def table(league, url):\n",
    "    response = requests.get(url)\n",
    "    df = pd.read_html(response.text)\n",
    "\n",
    "    df[0].drop(['Pts/MP',\n",
    "                'xG',\n",
    "                'xGA',\n",
    "                'xGD',\n",
    "                'xGD/90',\n",
    "                'Last 5',\n",
    "                'Attendance',\n",
    "                'Top Team Scorer',\n",
    "                'Goalkeeper',\n",
    "                'Notes',],\n",
    "                axis=1, inplace=True)\n",
    "\n",
    "    df[0].rename(columns = {'Rk':'순위',\n",
    "                            'Squad':'팀',\n",
    "                            'MP':'경기',\n",
    "                            'W':'승',\n",
    "                            'D':'무',\n",
    "                            'L':'패',\n",
    "                            'GF':'득점',\n",
    "                            'GA':'실점',\n",
    "                            'GD':'득실차',\n",
    "                            'Pts':'승점'},\n",
    "                            inplace=True)\n",
    "    \n",
    "    df[0].to_html(f'europe/{league}_standings.html', index=False, classes='football_standings', border=0, justify='center')\n",
    "\n",
    "table('premierleague', 'https://fbref.com/en/comps/9/Premier-League-Stats')\n",
    "table('laliga', 'https://fbref.com/en/comps/12/La-Liga-Stats')\n",
    "table('bundesliga', 'https://fbref.com/en/comps/20/Bundesliga-Stats')\n",
    "table('seriea', 'https://fbref.com/en/comps/11/Serie-A-Stats')\n",
    "table('ligue1', 'https://fbref.com/en/comps/13/Ligue-1-Stats')\n"
   ]
  },
  {
   "cell_type": "code",
   "execution_count": 22,
   "metadata": {},
   "outputs": [
    {
     "name": "stdout",
     "output_type": "stream",
     "text": [
      "      순위                   팀    경기     승    무     패    득점    실점   득실차    승점\n",
      "0    1.0       Ulsan Hyundai  14.0  12.0  1.0   1.0  29.0  13.0  16.0  37.0\n",
      "1    2.0            FC Seoul  14.0   7.0  3.0   4.0  28.0  18.0  10.0  24.0\n",
      "2    3.0      Jeju United FC  14.0   7.0  3.0   4.0  21.0  13.0   8.0  24.0\n",
      "3    4.0              Pohang  14.0   6.0  6.0   2.0  19.0  15.0   4.0  24.0\n",
      "4    5.0  Daejeon Citizen FC  14.0   6.0  3.0   5.0  22.0  22.0   0.0  21.0\n",
      "5    6.0               Daegu  14.0   5.0  5.0   4.0  16.0  17.0  -1.0  20.0\n",
      "6    NaN                 NaN   NaN   NaN  NaN   NaN   NaN   NaN   NaN   NaN\n",
      "7    7.0             Jeonbuk  14.0   5.0  3.0   6.0  17.0  13.0   4.0  18.0\n",
      "8    8.0            Suwon FC  14.0   4.0  3.0   7.0  16.0  27.0 -11.0  15.0\n",
      "9    9.0          Gwangju FC  14.0   4.0  3.0   7.0  15.0  18.0  -3.0  15.0\n",
      "10  10.0      Incheon United  14.0   3.0  5.0   6.0  12.0  19.0  -7.0  14.0\n",
      "11  11.0             Gangwon  14.0   2.0  5.0   7.0   7.0  16.0  -9.0  11.0\n",
      "12  12.0       Suw Bluewings  14.0   2.0  2.0  10.0  13.0  24.0 -11.0   8.0\n"
     ]
    },
    {
     "name": "stderr",
     "output_type": "stream",
     "text": [
      "C:\\Users\\ssjj3\\AppData\\Local\\Temp\\ipykernel_10340\\1436951997.py:27: SettingWithCopyWarning: \n",
      "A value is trying to be set on a copy of a slice from a DataFrame\n",
      "\n",
      "See the caveats in the documentation: https://pandas.pydata.org/pandas-docs/stable/user_guide/indexing.html#returning-a-view-versus-a-copy\n",
      "  df[0]['팀']['Ulsan Hyundai']='울산 현대'\n"
     ]
    }
   ],
   "source": [
    "import requests\n",
    "import pandas as pd\n",
    "\n",
    "def table(league, url):\n",
    "    response = requests.get(url)\n",
    "    df = pd.read_html(response.text)\n",
    "\n",
    "    df[0].drop(['Pts/MP',\n",
    "                'Last 5',\n",
    "                'Attendance',\n",
    "                'Top Team Scorer',\n",
    "                'Goalkeeper',\n",
    "                'Notes',],\n",
    "                axis=1, inplace=True)\n",
    "\n",
    "    df[0].rename(columns = {'Rk':'순위',\n",
    "                            'Squad':'팀',\n",
    "                            'MP':'경기',\n",
    "                            'W':'승',\n",
    "                            'D':'무',\n",
    "                            'L':'패',\n",
    "                            'GF':'득점',\n",
    "                            'GA':'실점',\n",
    "                            'GD':'득실차',\n",
    "                            'Pts':'승점'},\n",
    "                            inplace=True)\n",
    "    if(df[0]['팀'])\n",
    "    print(df[0])\n",
    "\n",
    "table('kleague', 'https://fbref.com/en/comps/55/K-League-1-Stats')"
   ]
  }
 ],
 "metadata": {
  "kernelspec": {
   "display_name": "Python 3",
   "language": "python",
   "name": "python3"
  },
  "language_info": {
   "codemirror_mode": {
    "name": "ipython",
    "version": 3
   },
   "file_extension": ".py",
   "mimetype": "text/x-python",
   "name": "python",
   "nbconvert_exporter": "python",
   "pygments_lexer": "ipython3",
   "version": "3.10.11"
  },
  "orig_nbformat": 4
 },
 "nbformat": 4,
 "nbformat_minor": 2
}
